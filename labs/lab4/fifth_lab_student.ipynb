{
 "cells": [
  {
   "cell_type": "markdown",
   "metadata": {
    "id": "bA6QfBg9Dz_U"
   },
   "source": [
    "<h1><center><strong><font color=\"chillipepper\">Machine Translation</font></strong></center></h1>\n",
    "<h3><center><font color=\"blue\"><strong>Student Version</strong></font></center></h3>\n",
    "\n",
    "------------------------\n",
    "\n",
    "Google Colab Tips:\n",
    "- CTRL + / => comment or uncomment current selection\n",
    "- CTRL + ENTER -> run current cell\n",
    "- SHIFT + ENTER -> run current cell and go to next one (or create a next empty one if none exists)\n",
    "- ESCAPE -> when in a cell, goes to the outside of the cell, enabling ARROWS navigation\n",
    "- ENTER -> when navigating between cells using ARROWS, press ENTER to start editing the cell\n",
    "- don't forget you can fold and unfold sections (i.e. markdown sections)"
   ]
  },
  {
   "cell_type": "markdown",
   "metadata": {
    "id": "mEaTFMnLe2ZU"
   },
   "source": [
    "In this lab you will have a glimspe of neural machine translation, in its simplest form. You will start from data representation to the creation of encoder and decoder models with a very different training loop.\n",
    "\n",
    "# Outline\n",
    "\n",
    "- Data Representation\n",
    "  - Build a vocabulary\n",
    "  - Add SOS and EOS\n",
    "  - Create loaders\n",
    "- Encoder Decoder\n",
    "  - CUDA summary\n",
    "  - Model definitions\n",
    "  - Training loop\n",
    "  - Evaluate function\n",
    "  - Inference loop for validation\n",
    "  - Training\n",
    "  - Evaluation on test set\n",
    "- On-demand Subjective evaluation\n",
    "  - by random batch\n",
    "  - by user input\n",
    "\n",
    "\n",
    "This lab is inspired from the official PyTorch tutorial: https://pytorch.org/tutorials/intermediate/seq2seq_translation_tutorial.html#the-seq2seq-model\n",
    "\n",
    "However, it better corresponds to what you saw in the previous courses, and adapts it to make less convoluted.\n",
    "\n",
    "Have fun!"
   ]
  },
  {
   "cell_type": "markdown",
   "metadata": {
    "id": "vBorNka2dve1"
   },
   "source": [
    "# <font color=\"chillipepper\">**Installations**</font>"
   ]
  },
  {
   "cell_type": "code",
   "execution_count": null,
   "metadata": {
    "id": "Tpnhu1hRLDJ9"
   },
   "outputs": [],
   "source": [
    "! pip install datasets transformers torchinfo sacrebleu"
   ]
  },
  {
   "cell_type": "code",
   "execution_count": null,
   "metadata": {
    "id": "gkJXUDgqLIbP"
   },
   "outputs": [],
   "source": [
    "import torch\n",
    "import torch\n",
    "import torch.nn as nn\n",
    "import torch.nn.functional as F\n",
    "\n",
    "import numpy as np\n",
    "from datasets import load_dataset\n",
    "from tqdm import tqdm\n",
    "import nltk\n",
    "from gensim.models.phrases import Phrases, Phraser\n",
    "from nltk.tokenize import TreebankWordTokenizer, TweetTokenizer\n",
    "import pandas as pd\n",
    "from termcolor import colored\n",
    "from collections import Counter\n",
    "\n",
    "from sacrebleu.metrics import BLEU"
   ]
  },
  {
   "cell_type": "markdown",
   "metadata": {
    "id": "WV-k7Aafd0y7"
   },
   "source": [
    "# <font color=\"chillipepper\">**Data Representation**</font>\n",
    "\n"
   ]
  },
  {
   "cell_type": "markdown",
   "metadata": {
    "id": "S5NHaV1DYHFL"
   },
   "source": [
    "We will use a corpus made of English-French translation pairs. This dataset comes from Tatoeba, https://tatoeba.org/fr/. You can find more datasets from this wbsite here: https://tatoeba.org/fr/downloads.\n",
    "\n",
    "We will only consider English-French pairs, but you are free to try other pairs if you wish to do so.\n",
    "\n",
    "Keep in mind this corpus is not the best one to train a good model, but machine translation model can be really long to train. Hence we chose this one to obtain quick, alas not good, results. You are free to try other datasets afterwards.\n",
    "\n",
    "**Disclaimer:** The model should be trained for at least ~40 minutes to obtain somewhat \"correct\" results. Ideally, the model should be trained on the whole trainset, with multiple epochs. But we will NOT do this. You will see later on that with the `limit` option, we can easily select the subset size for training. "
   ]
  },
  {
   "cell_type": "code",
   "execution_count": null,
   "metadata": {
    "id": "Y2Rm1NdWt4eS"
   },
   "outputs": [],
   "source": [
    "! wget https://gitlab.com/gguibon/ensae-ml4nlp-storage/-/raw/master/eng-fra.zip\n",
    "! unzip eng-fra.zip"
   ]
  },
  {
   "cell_type": "code",
   "execution_count": null,
   "metadata": {
    "colab": {
     "base_uri": "https://localhost:8080/",
     "height": 86,
     "referenced_widgets": [
      "c28bc14675e44ad8926c6f71dd6e404e",
      "126db9b1475c43a893d34c219368c5ed",
      "be608794a13d483dae0296846003b23c",
      "1d8fa8aaac4140eeb2ac946a4e944748",
      "4a291bb20a6c4b299110881d5fdbc17f",
      "222e6db2fda549ffa61d6bef839f9480",
      "23f8f1dc71174bfda448ea81cd542528",
      "d201e9b398c64c8abb6f669fadc90264",
      "766ff68b1f6c4d5fba61afb160e67c08",
      "262d91d95c2c4bf8b45ced27b7ed63ab",
      "debb984662c74ce5bfa1564f4386caaf"
     ]
    },
    "id": "pbvbrISVqQ6i",
    "outputId": "2b1dec90-b036-4501-d7c2-165b3b8811b2"
   },
   "outputs": [
    {
     "name": "stderr",
     "output_type": "stream",
     "text": [
      "Using custom data configuration default-d882eb85dc9244ec\n",
      "Reusing dataset json (/root/.cache/huggingface/datasets/json/default-d882eb85dc9244ec/0.0.0/ac0ca5f5289a6cf108e706efcf040422dbbfa8e658dee6a819f20d76bb84d26b)\n"
     ]
    },
    {
     "data": {
      "application/vnd.jupyter.widget-view+json": {
       "model_id": "c28bc14675e44ad8926c6f71dd6e404e",
       "version_major": 2,
       "version_minor": 0
      },
      "text/plain": [
       "  0%|          | 0/1 [00:00<?, ?it/s]"
      ]
     },
     "metadata": {},
     "output_type": "display_data"
    }
   ],
   "source": [
    "from datasets import load_dataset\n",
    "enfr = load_dataset('json', data_files='eng-fra.json')"
   ]
  },
  {
   "cell_type": "markdown",
   "metadata": {
    "id": "-0dbeaqIPCQ2"
   },
   "source": [
    "Our dataset only has a \"train\" set"
   ]
  },
  {
   "cell_type": "code",
   "execution_count": null,
   "metadata": {
    "id": "rIxqbRmwPAAD"
   },
   "outputs": [],
   "source": [
    "enfr"
   ]
  },
  {
   "cell_type": "code",
   "execution_count": null,
   "metadata": {
    "id": "xH6eVEjJQ25F"
   },
   "outputs": [],
   "source": [
    "# the number of telements in the train set\n",
    "len(enfr['train'])"
   ]
  },
  {
   "cell_type": "code",
   "execution_count": null,
   "metadata": {
    "id": "0O6RCmaWR12q"
   },
   "outputs": [],
   "source": [
    "UNK_IDX, PAD_IDX, SOS_IDX, EOS_IDX = 0, 1, 2, 3\n",
    "special_symbols = ['<unk>', '<pad>', '<sos>', '<eos>']"
   ]
  },
  {
   "cell_type": "markdown",
   "metadata": {
    "id": "bBzFXTRIPJku"
   },
   "source": [
    "Let's try a simple tokenization on one element of the corpus"
   ]
  },
  {
   "cell_type": "code",
   "execution_count": null,
   "metadata": {
    "id": "HqwcoP8gUFQH"
   },
   "outputs": [],
   "source": [
    "tok = TweetTokenizer()\n",
    "entry = enfr['train'][2]['translation']\n",
    "tokens = tok.tokenize(entry['fr'].lower().strip())\n",
    "print(tokens)"
   ]
  },
  {
   "cell_type": "markdown",
   "metadata": {
    "id": "idb1fXxbeOQi"
   },
   "source": [
    "## <font color=\"chillipepper\">Build a Vocabulary from Scratch</font>"
   ]
  },
  {
   "cell_type": "markdown",
   "metadata": {
    "id": "m-0YKd_Veqky"
   },
   "source": [
    "#### ![programming(3).png](data:image/png;base64,iVBORw0KGgoAAAANSUhEUgAAACAAAAAgCAYAAABzenr0AAAABHNCSVQICAgIfAhkiAAAAAlwSFlzAAAA3QAAAN0BcFOiBwAAABl0RVh0U29mdHdhcmUAd3d3Lmlua3NjYXBlLm9yZ5vuPBoAAAR7SURBVFiFtZdvaFVlHMc/z3PPuefuz825XWV3m5mWU1MLSVEyRoqKk2iLWBCT2uyFpTSIoCCHL0SDXkgUavhKCU3EpGmlorYSShtWig6M1M25gVPb3da2e6/3z3l6cf9u996d42pfOC/O8+/3+f2e5/f8EUopbKnplEHEtwpFDYj5gDf+AdyNfeo6guNoxa18Xv3QzrDCEmDTQS8OuQ1FPeC2R8sQgkNEze3s23B3YgCNB1y49GYQ7wH5Ng2PlR/UpwTDO9jfELQPsOVoKSrUghLLJmh4rJU2hLOWPXW91gCbDi1CipNAxf9iPKUeTLWeffXXcgNsOVqKGb40CcZTEFJfmh4JmaxqPOBChVom0ThABSrUQuMBV6JAS1a59Ob0OQ8J+MsYP0MUMDgwOL5JE5ZINy6XI95JLIstbpohMQWbDnqR8iZpq/1vB3xYalq6dPHXS5Ztzv4xl/K1UyBPJIr8mOZT7NtwNzYFDrmNCabawvmV6Jo2fqMBBd8GIJCMaH7cJpKmU0Z8k7GlaUVu1ixdAIBT19n6/mZ0Xefl6tWUTvfk7ugzR0Mo6mk6ZUgivlXY3OGmFblpqluDkLFQTvNM5f6DPvyBAFIKtn3wrjXEiSSEm4hvlYzt7faN/3LtBmfa2gGY7imho6sbgJbvz3Lu/AVriP40CEWNjB8slsp3OTGcGgPD/mTZdE8xnXEAgP7+QQzDoKDAYjklIIZ5VpI60cZVV28fu7/+gVeqnmP5wieTAB23YwArX1hO/Ws17Ny1l1udd6wH7Dfhu8Bi2wAAd+71sfvYOcpKitA1jalTHqOzqweAGeVePt61l47bNown9I9pWORPprrv+ei+50PXNc6cv8iIPzYlXx755lGHAimUJHaZeGSFwxH+vNExka4puYhocYA5Y+sK8gxerywHp4YyNNA1lFMDZ+r4UAqenjMr1UmBDEaQIxFkIIz0R3CMhHG3DUAgnAlgyIAG6jqIqgw4p8bzLy23dMI7u9La0cOHgSwABaJHIjhuOcJkyS2OaGjFrYT7hxi7GwYjaMduQDDzRAzNcBOa6SZUWsBgTz+uwQiFD4IU3s9660KOZPFeEwpX4Wex03DzV1+geDujUXcUTgcgOrq48/B6hlbGrg1tV28CUPGbj+qPrthwO65ZjnY63loUW1FRczvgz2g0wwHr8iB+lEdXlhP8qRbPkmJmmmEeJ8LiMi+Ly7x4187j5slahqvKrY1rQJHYAOlXsncO7QCxNWuHeCSUJx/zmZJksdIEgYejpyivvQ/tfqYvozRbu8CtjSsSLDEFwzvI01dnvQnHIyFO+3GcHT243YdCUiVyGC/rEr+ppN7fEEQ4a4GerB3HTMeE5BImFc4qft44lAkAsKeuF1OtnxSIAhFlnnyVK29cTi+e2MMkR3bkVJHw84S+gssNGWkis7VnT10vgfCLoHZiIztySgPm6q0scJRmMw7/9XGaKxKGUJQ52il0NHL1zd/HG94aIKFcz/M7UQc/BnUK5TCFohunOIFHfZK+0MbTvx9ltLez/h/sAAAAAElFTkSuQmCC) ☑️ **TODO: Count the vocab for both languages**\n",
    "\n"
   ]
  },
  {
   "cell_type": "markdown",
   "metadata": {
    "id": "GFc9b8XuPaNo"
   },
   "source": [
    "**Create your own vocab manually**, a dictionary `VOC` with multiple keys.\n",
    "For each language `'en', 'fr'`:\n",
    "- `counts`is the number of occurrence per token\n",
    "- `stoi` is the String To Index mapping\n",
    "- `itos` is the Index to String mapping\n",
    "- `nbwords`is the global number of words\n",
    "\n",
    "\n"
   ]
  },
  {
   "cell_type": "code",
   "execution_count": null,
   "metadata": {
    "id": "uUKAmTpIVGAN"
   },
   "outputs": [],
   "source": [
    "# stoi string to index\n",
    "# itos index to string\n",
    "\n",
    "VOC = {'en': {'stoi': {}, 'counts': {}, 'nbwords': 0}, 'fr': {'stoi': {}, 'counts': {}, 'nbwords': 0}}\n",
    "LANGS = ['fr', 'en']\n",
    "\n",
    "def parse_entry(entry):\n",
    "  # CODE ME!!\n",
    "\n",
    "# now we add the special symbols\n",
    "for lang in LANGS:\n",
    "  for t in special_symbols: \n",
    "    VOC[lang]['stoi'][t] = VOC[lang]['nbwords']\n",
    "    VOC[lang]['counts'][t] = 1\n",
    "    VOC[lang]['nbwords'] += 1"
   ]
  },
  {
   "cell_type": "code",
   "execution_count": null,
   "metadata": {
    "id": "mve-tSawYUtT"
   },
   "outputs": [],
   "source": [
    "for entry in tqdm(enfr['train']): \n",
    "  parse_entry(entry)\n",
    "\n",
    "# to compute the itos, we can just reverse the stoi\n",
    "for lang in LANGS:\n",
    "  VOC[lang]['itos'] = { v:k for k,v in VOC[lang]['stoi'].items()}"
   ]
  },
  {
   "cell_type": "code",
   "execution_count": null,
   "metadata": {
    "id": "b8YlxUG2cNPd"
   },
   "outputs": [],
   "source": [
    "print(VOC['fr']['itos'][1])"
   ]
  },
  {
   "cell_type": "code",
   "execution_count": null,
   "metadata": {
    "id": "UVfKLBun9e59"
   },
   "outputs": [],
   "source": [
    "print('fr', VOC['fr']['nbwords'], 'en', VOC['en']['nbwords'])"
   ]
  },
  {
   "cell_type": "markdown",
   "metadata": {
    "id": "JR4MbI-aeYyC"
   },
   "source": [
    "## <font color=\"chillipepper\">Add SOS and EOS special indices and Tokenize</font>\n",
    "\n"
   ]
  },
  {
   "cell_type": "markdown",
   "metadata": {
    "id": "XdDUttm5QFPT"
   },
   "source": [
    "#### ![programming(3).png](data:image/png;base64,iVBORw0KGgoAAAANSUhEUgAAACAAAAAgCAYAAABzenr0AAAABHNCSVQICAgIfAhkiAAAAAlwSFlzAAAA3QAAAN0BcFOiBwAAABl0RVh0U29mdHdhcmUAd3d3Lmlua3NjYXBlLm9yZ5vuPBoAAAR7SURBVFiFtZdvaFVlHMc/z3PPuefuz825XWV3m5mWU1MLSVEyRoqKk2iLWBCT2uyFpTSIoCCHL0SDXkgUavhKCU3EpGmlorYSShtWig6M1M25gVPb3da2e6/3z3l6cf9u996d42pfOC/O8+/3+f2e5/f8EUopbKnplEHEtwpFDYj5gDf+AdyNfeo6guNoxa18Xv3QzrDCEmDTQS8OuQ1FPeC2R8sQgkNEze3s23B3YgCNB1y49GYQ7wH5Ng2PlR/UpwTDO9jfELQPsOVoKSrUghLLJmh4rJU2hLOWPXW91gCbDi1CipNAxf9iPKUeTLWeffXXcgNsOVqKGb40CcZTEFJfmh4JmaxqPOBChVom0ThABSrUQuMBV6JAS1a59Ob0OQ8J+MsYP0MUMDgwOL5JE5ZINy6XI95JLIstbpohMQWbDnqR8iZpq/1vB3xYalq6dPHXS5Ztzv4xl/K1UyBPJIr8mOZT7NtwNzYFDrmNCabawvmV6Jo2fqMBBd8GIJCMaH7cJpKmU0Z8k7GlaUVu1ixdAIBT19n6/mZ0Xefl6tWUTvfk7ugzR0Mo6mk6ZUgivlXY3OGmFblpqluDkLFQTvNM5f6DPvyBAFIKtn3wrjXEiSSEm4hvlYzt7faN/3LtBmfa2gGY7imho6sbgJbvz3Lu/AVriP40CEWNjB8slsp3OTGcGgPD/mTZdE8xnXEAgP7+QQzDoKDAYjklIIZ5VpI60cZVV28fu7/+gVeqnmP5wieTAB23YwArX1hO/Ws17Ny1l1udd6wH7Dfhu8Bi2wAAd+71sfvYOcpKitA1jalTHqOzqweAGeVePt61l47bNown9I9pWORPprrv+ei+50PXNc6cv8iIPzYlXx755lGHAimUJHaZeGSFwxH+vNExka4puYhocYA5Y+sK8gxerywHp4YyNNA1lFMDZ+r4UAqenjMr1UmBDEaQIxFkIIz0R3CMhHG3DUAgnAlgyIAG6jqIqgw4p8bzLy23dMI7u9La0cOHgSwABaJHIjhuOcJkyS2OaGjFrYT7hxi7GwYjaMduQDDzRAzNcBOa6SZUWsBgTz+uwQiFD4IU3s9660KOZPFeEwpX4Wex03DzV1+geDujUXcUTgcgOrq48/B6hlbGrg1tV28CUPGbj+qPrthwO65ZjnY63loUW1FRczvgz2g0wwHr8iB+lEdXlhP8qRbPkmJmmmEeJ8LiMi+Ly7x4187j5slahqvKrY1rQJHYAOlXsncO7QCxNWuHeCSUJx/zmZJksdIEgYejpyivvQ/tfqYvozRbu8CtjSsSLDEFwzvI01dnvQnHIyFO+3GcHT243YdCUiVyGC/rEr+ppN7fEEQ4a4GerB3HTMeE5BImFc4qft44lAkAsKeuF1OtnxSIAhFlnnyVK29cTi+e2MMkR3bkVJHw84S+gssNGWkis7VnT10vgfCLoHZiIztySgPm6q0scJRmMw7/9XGaKxKGUJQ52il0NHL1zd/HG94aIKFcz/M7UQc/BnUK5TCFohunOIFHfZK+0MbTvx9ltLez/h/sAAAAAElFTkSuQmCC)☑️ **TODO: add SOS and EOS**"
   ]
  },
  {
   "cell_type": "markdown",
   "metadata": {
    "id": "NW0KjxpbQQ2W"
   },
   "source": [
    "Add End of Sentence (EOS, `EOS_IDX`) and Start of Sentence (SOS, `SOS_IDX`) indices in the end and beginning of a list of tokens. \n",
    "\n",
    "This means, for each `LANGS`, you will have to:\n",
    "1. tokenize the sentence\n",
    "2. transform the tokens to their corresponding indice\n",
    "3. surround the tokens with the SOS and EOS indices"
   ]
  },
  {
   "cell_type": "code",
   "execution_count": null,
   "metadata": {
    "id": "jkdZYwOA2X-o"
   },
   "outputs": [],
   "source": [
    "print(VOC['fr']['stoi']['va'])"
   ]
  },
  {
   "cell_type": "code",
   "execution_count": null,
   "metadata": {
    "id": "yosFg9vZrO_1"
   },
   "outputs": [],
   "source": [
    "enfr['train'][0]"
   ]
  },
  {
   "cell_type": "code",
   "execution_count": null,
   "metadata": {
    "id": "pXtxGiSqc4ay"
   },
   "outputs": [],
   "source": [
    "def prepa(entry):\n",
    "  res = {l:None for l in LANGS }\n",
    "  for lang in LANGS:\n",
    "    tokens_entries =  [ [SOS_IDX] + [ VOC[lang]['stoi'][t] for t in tok.tokenize(e[lang].lower().strip()) ] + [EOS_IDX] for e in entry['translation'] ] \n",
    "    res[lang] = tokens_entries\n",
    "  return res\n",
    "enfr['train'] = enfr['train'].map(lambda e: prepa(e), batched=True)"
   ]
  },
  {
   "cell_type": "code",
   "execution_count": null,
   "metadata": {
    "id": "hjzAoQLQvqdN"
   },
   "outputs": [],
   "source": [
    "## the following line would take the max len from the data (~60)\n",
    "# maxlen = max([max([ len(e) for e in enfr['train']['en'] ]), max([ len(e) for e in enfr['train']['fr'] ]) ] )\n",
    "## we will limit the maxlen to 10, in order to ease the computational process\n",
    "maxlen = 10"
   ]
  },
  {
   "cell_type": "markdown",
   "metadata": {
    "id": "nLohXbv_R3BO"
   },
   "source": [
    "## <font color=\"chillipepper\">Split into train, val, test</font>"
   ]
  },
  {
   "cell_type": "markdown",
   "metadata": {
    "id": "6fYtVI5uQ4-E"
   },
   "source": [
    "Now let's split the dataset into train, val and test splits."
   ]
  },
  {
   "cell_type": "code",
   "execution_count": null,
   "metadata": {
    "id": "sx7HEikf1bl7"
   },
   "outputs": [],
   "source": [
    "from sklearn.model_selection import train_test_split\n",
    "# we retrieve a list of indices (required for the .select() method of the hugging face dataset object - which is not a dictionary -)\n",
    "indices = [i for i in range(len(enfr['train']))]\n",
    "# use scikit learn to split the indices into subsets: ~67% train, ~16 % val, ~16% test\n",
    "train_indices, other_indices, _, _ = train_test_split(indices, indices, test_size=0.33, random_state=42)\n",
    "val_indices, test_indices, _, _ = train_test_split(other_indices, other_indices, test_size=0.5, random_state=42)"
   ]
  },
  {
   "cell_type": "markdown",
   "metadata": {
    "id": "dm4NRIpzRkJ5"
   },
   "source": [
    "We now have the following sizes"
   ]
  },
  {
   "cell_type": "code",
   "execution_count": null,
   "metadata": {
    "colab": {
     "base_uri": "https://localhost:8080/"
    },
    "id": "47pAYlXo2J83",
    "outputId": "8496bd93-01b4-4240-d2d8-4405c564933e"
   },
   "outputs": [
    {
     "name": "stdout",
     "output_type": "stream",
     "text": [
      "91014 45507 45507\n"
     ]
    }
   ],
   "source": [
    "print(len(train_indices), len(val_indices), len(test_indices))"
   ]
  },
  {
   "cell_type": "markdown",
   "metadata": {
    "id": "mNYIxSHORnMm"
   },
   "source": [
    "And now we can use the indices lists to create subsets"
   ]
  },
  {
   "cell_type": "code",
   "execution_count": null,
   "metadata": {
    "id": "UGUIXMH60C85"
   },
   "outputs": [],
   "source": [
    "enfr['validation'] = enfr['train'].select(val_indices)\n",
    "enfr['test'] = enfr['train'].select(test_indices)\n",
    "enfr['train'] = enfr['train'].select(train_indices)"
   ]
  },
  {
   "cell_type": "markdown",
   "metadata": {
    "id": "w56Zj6_hRr7B"
   },
   "source": [
    "Let's look at the result "
   ]
  },
  {
   "cell_type": "code",
   "execution_count": null,
   "metadata": {
    "colab": {
     "base_uri": "https://localhost:8080/"
    },
    "id": "5WzaX1On0Ial",
    "outputId": "ff0f5850-d15f-42ed-eadb-c7efec96a501"
   },
   "outputs": [
    {
     "data": {
      "text/plain": [
       "DatasetDict({\n",
       "    train: Dataset({\n",
       "        features: ['translation', 'fr', 'en'],\n",
       "        num_rows: 91014\n",
       "    })\n",
       "    validation: Dataset({\n",
       "        features: ['translation', 'fr', 'en'],\n",
       "        num_rows: 45507\n",
       "    })\n",
       "    test: Dataset({\n",
       "        features: ['translation', 'fr', 'en'],\n",
       "        num_rows: 45507\n",
       "    })\n",
       "})"
      ]
     },
     "execution_count": 22,
     "metadata": {},
     "output_type": "execute_result"
    }
   ],
   "source": [
    "enfr"
   ]
  },
  {
   "cell_type": "markdown",
   "metadata": {
    "id": "8gUXP6KRe3TU"
   },
   "source": [
    "## <font color=\"chillipepper\">Dataset and Dataloader</font>"
   ]
  },
  {
   "cell_type": "markdown",
   "metadata": {
    "id": "IYgdkRhjR8gR"
   },
   "source": [
    "#### ![programming(3).png](data:image/png;base64,iVBORw0KGgoAAAANSUhEUgAAACAAAAAgCAYAAABzenr0AAAABHNCSVQICAgIfAhkiAAAAAlwSFlzAAAA3QAAAN0BcFOiBwAAABl0RVh0U29mdHdhcmUAd3d3Lmlua3NjYXBlLm9yZ5vuPBoAAAR7SURBVFiFtZdvaFVlHMc/z3PPuefuz825XWV3m5mWU1MLSVEyRoqKk2iLWBCT2uyFpTSIoCCHL0SDXkgUavhKCU3EpGmlorYSShtWig6M1M25gVPb3da2e6/3z3l6cf9u996d42pfOC/O8+/3+f2e5/f8EUopbKnplEHEtwpFDYj5gDf+AdyNfeo6guNoxa18Xv3QzrDCEmDTQS8OuQ1FPeC2R8sQgkNEze3s23B3YgCNB1y49GYQ7wH5Ng2PlR/UpwTDO9jfELQPsOVoKSrUghLLJmh4rJU2hLOWPXW91gCbDi1CipNAxf9iPKUeTLWeffXXcgNsOVqKGb40CcZTEFJfmh4JmaxqPOBChVom0ThABSrUQuMBV6JAS1a59Ob0OQ8J+MsYP0MUMDgwOL5JE5ZINy6XI95JLIstbpohMQWbDnqR8iZpq/1vB3xYalq6dPHXS5Ztzv4xl/K1UyBPJIr8mOZT7NtwNzYFDrmNCabawvmV6Jo2fqMBBd8GIJCMaH7cJpKmU0Z8k7GlaUVu1ixdAIBT19n6/mZ0Xefl6tWUTvfk7ugzR0Mo6mk6ZUgivlXY3OGmFblpqluDkLFQTvNM5f6DPvyBAFIKtn3wrjXEiSSEm4hvlYzt7faN/3LtBmfa2gGY7imho6sbgJbvz3Lu/AVriP40CEWNjB8slsp3OTGcGgPD/mTZdE8xnXEAgP7+QQzDoKDAYjklIIZ5VpI60cZVV28fu7/+gVeqnmP5wieTAB23YwArX1hO/Ws17Ny1l1udd6wH7Dfhu8Bi2wAAd+71sfvYOcpKitA1jalTHqOzqweAGeVePt61l47bNown9I9pWORPprrv+ei+50PXNc6cv8iIPzYlXx755lGHAimUJHaZeGSFwxH+vNExka4puYhocYA5Y+sK8gxerywHp4YyNNA1lFMDZ+r4UAqenjMr1UmBDEaQIxFkIIz0R3CMhHG3DUAgnAlgyIAG6jqIqgw4p8bzLy23dMI7u9La0cOHgSwABaJHIjhuOcJkyS2OaGjFrYT7hxi7GwYjaMduQDDzRAzNcBOa6SZUWsBgTz+uwQiFD4IU3s9660KOZPFeEwpX4Wex03DzV1+geDujUXcUTgcgOrq48/B6hlbGrg1tV28CUPGbj+qPrthwO65ZjnY63loUW1FRczvgz2g0wwHr8iB+lEdXlhP8qRbPkmJmmmEeJ8LiMi+Ly7x4187j5slahqvKrY1rQJHYAOlXsncO7QCxNWuHeCSUJx/zmZJksdIEgYejpyivvQ/tfqYvozRbu8CtjSsSLDEFwzvI01dnvQnHIyFO+3GcHT243YdCUiVyGC/rEr+ppN7fEEQ4a4GerB3HTMeE5BImFc4qft44lAkAsKeuF1OtnxSIAhFlnnyVK29cTi+e2MMkR3bkVJHw84S+gssNGWkis7VnT10vgfCLoHZiIztySgPm6q0scJRmMw7/9XGaKxKGUJQ52il0NHL1zd/HG94aIKFcz/M7UQc/BnUK5TCFohunOIFHfZK+0MbTvx9ltLez/h/sAAAAAElFTkSuQmCC) ☑️ **TODO: create the dataset and dataloaders** "
   ]
  },
  {
   "cell_type": "markdown",
   "metadata": {
    "id": "23hjV-_nSCEp"
   },
   "source": [
    "You should know how to do it. We did it int the previous lab.\n",
    "\n",
    "**Create the class** to serve the dataset items.\n",
    "\n",
    "**Create the dataloaders** for each split. **Use batch_size to 1 !**"
   ]
  },
  {
   "cell_type": "code",
   "execution_count": null,
   "metadata": {
    "id": "af2mOeDruogz"
   },
   "outputs": [],
   "source": [
    "from torch.utils.data import Dataset\n",
    "import numpy as np\n",
    "\n",
    "class EnfrDataset(Dataset):\n",
    "    # CODE ME !!"
   ]
  },
  {
   "cell_type": "code",
   "execution_count": null,
   "metadata": {
    "id": "k095y7W1u2DL"
   },
   "outputs": [],
   "source": [
    "from torch.utils.data import DataLoader\n",
    "# CODE ME !!"
   ]
  },
  {
   "cell_type": "markdown",
   "metadata": {
    "id": "ltoEilmtgT-V"
   },
   "source": [
    "# <font color=\"chillipepper\">**The Model(s): Encoder Decoder**</font>"
   ]
  },
  {
   "cell_type": "markdown",
   "metadata": {
    "id": "LqfI1giwMHMH"
   },
   "source": [
    "## <font color=\"chillipepper\">CUDA, CPU, GPU, what is it?</font>"
   ]
  },
  {
   "cell_type": "markdown",
   "metadata": {
    "id": "EyNQWmZzMR1i"
   },
   "source": [
    "As tackled is the lab 3-4, the GPU is the graphical processing unit, in order words: your graphic card. For computational purposes we mostly use Nvidia cards, which implements a dedicated language named CUDA. Hence, CUDA is available with all Nvidia cards such as the (impossible to get and overpriced) RTX 3090, Tesla, etc.\n",
    "\n",
    "To enable GPU, please verify or change your execution parameters in \"execution -> modify the execution type\" and select \"GPU\"."
   ]
  },
  {
   "cell_type": "markdown",
   "metadata": {
    "id": "3LV6yvNSMwI9"
   },
   "source": [
    "Let's check our GPU"
   ]
  },
  {
   "cell_type": "code",
   "execution_count": null,
   "metadata": {
    "id": "u5uSvxcJL8NU"
   },
   "outputs": [],
   "source": [
    "# let's check our GPU if any\n",
    "! nvidia-smi"
   ]
  },
  {
   "cell_type": "markdown",
   "metadata": {
    "id": "CS47ZDCQM_Xm"
   },
   "source": [
    "You can see this GPU is a Tesla K80 with CUDA Versio 11.2. It possesses ~11 Gb of RAM and is used at 0% (because we did not start any training)."
   ]
  },
  {
   "cell_type": "markdown",
   "metadata": {
    "id": "A6BNh70INNHg"
   },
   "source": [
    "Now let's check our CPU:"
   ]
  },
  {
   "cell_type": "code",
   "execution_count": null,
   "metadata": {
    "id": "Pj0PtpnuL3_k"
   },
   "outputs": [],
   "source": [
    "# let's check our CPU\n",
    "! lscpu"
   ]
  },
  {
   "cell_type": "markdown",
   "metadata": {
    "id": "UMLIhuveNRTh"
   },
   "source": [
    "You can see our CPU (i.e. the processor), is an Intel Xeon with 2.30GHz cadency. This is ok, not the best, and it is necessary to prefer the GPU for computational speed. PyTorch let's you handle CPU and GPU as you wishes."
   ]
  },
  {
   "cell_type": "code",
   "execution_count": null,
   "metadata": {
    "id": "75_zB6m05jxm"
   },
   "outputs": [],
   "source": [
    "# torch.cuda.is_available() returns a boolean to check if the GPU can be used or not\n",
    "if torch.cuda.is_available():\n",
    "  # if CUDA is available set 'cuda' as the device\n",
    "  device = 'cuda'\n",
    "  # and then print the name of the GPU\n",
    "  print('DEVICE = ', colored(torch.cuda.get_device_name(0), \"green\" ) )\n",
    "else:\n",
    "  # else, set 'cpu' as device\n",
    "  device = 'cpu'\n",
    "  # just print than the CPU is used. Alternatively you can check your CPU with the following command (linux based) in the next cell:\n",
    "  # ! lscpu\n",
    "  print('DEVICE = ', colored('CPU', \"blue\"))"
   ]
  },
  {
   "cell_type": "markdown",
   "metadata": {
    "id": "s74Xj_4XfBf0"
   },
   "source": [
    "## <font color=\"chillipepper\">Define the Encoder</font>"
   ]
  },
  {
   "cell_type": "markdown",
   "metadata": {
    "id": "_5ihBW1TT_p5"
   },
   "source": [
    "![image.png](data:image/png;base64,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)"
   ]
  },
  {
   "cell_type": "markdown",
   "metadata": {
    "id": "CUdv9JaMUDiP"
   },
   "source": [
    "Source : https://towardsdatascience.com/understanding-encoder-decoder-sequence-to-sequence-model-679e04af4346"
   ]
  },
  {
   "cell_type": "markdown",
   "metadata": {
    "id": "HHazWGS3SYS5"
   },
   "source": [
    "The encoder will encode the input, i.e. transform it into a vector of information as follows (source: https://ichi.pro/fr/traduction-automatique-neuronale-utilisant-un-modele-de-sequence-a-sequence-24508576939223):\n",
    "\n",
    "<img src=\"https://miro.medium.com/max/724/1*R-Ul_DUk74cj79bPr5UalQ.gif\" />\n",
    "\n",
    "We use a recurrent layer for this. However, LSTM are complex and difficult, and long to train on such very small dataset. This is why we will use the Gated Recurrent Unit here. This model has [been made in 2014 for machine translation](https://paperswithcode.com/paper/learning-phrase-representations-using-rnn). It can be summed up as a simpler version of LSTM.\n",
    "\n",
    "\n",
    "Links:\n",
    "- https://pytorch.org/docs/stable/generated/torch.nn.GRU.html\n",
    "\n"
   ]
  },
  {
   "cell_type": "markdown",
   "metadata": {
    "id": "RcbSEPTLTzfb"
   },
   "source": [
    "![Gated_Recurrent_Unit,_type_1.svg](data:image/svg+xml;base64,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)"
   ]
  },
  {
   "cell_type": "markdown",
   "metadata": {
    "id": "iQKpxhXEUMOK"
   },
   "source": [
    "#### ![programming(3).png](data:image/png;base64,iVBORw0KGgoAAAANSUhEUgAAACAAAAAgCAYAAABzenr0AAAABHNCSVQICAgIfAhkiAAAAAlwSFlzAAAA3QAAAN0BcFOiBwAAABl0RVh0U29mdHdhcmUAd3d3Lmlua3NjYXBlLm9yZ5vuPBoAAAR7SURBVFiFtZdvaFVlHMc/z3PPuefuz825XWV3m5mWU1MLSVEyRoqKk2iLWBCT2uyFpTSIoCCHL0SDXkgUavhKCU3EpGmlorYSShtWig6M1M25gVPb3da2e6/3z3l6cf9u996d42pfOC/O8+/3+f2e5/f8EUopbKnplEHEtwpFDYj5gDf+AdyNfeo6guNoxa18Xv3QzrDCEmDTQS8OuQ1FPeC2R8sQgkNEze3s23B3YgCNB1y49GYQ7wH5Ng2PlR/UpwTDO9jfELQPsOVoKSrUghLLJmh4rJU2hLOWPXW91gCbDi1CipNAxf9iPKUeTLWeffXXcgNsOVqKGb40CcZTEFJfmh4JmaxqPOBChVom0ThABSrUQuMBV6JAS1a59Ob0OQ8J+MsYP0MUMDgwOL5JE5ZINy6XI95JLIstbpohMQWbDnqR8iZpq/1vB3xYalq6dPHXS5Ztzv4xl/K1UyBPJIr8mOZT7NtwNzYFDrmNCabawvmV6Jo2fqMBBd8GIJCMaH7cJpKmU0Z8k7GlaUVu1ixdAIBT19n6/mZ0Xefl6tWUTvfk7ugzR0Mo6mk6ZUgivlXY3OGmFblpqluDkLFQTvNM5f6DPvyBAFIKtn3wrjXEiSSEm4hvlYzt7faN/3LtBmfa2gGY7imho6sbgJbvz3Lu/AVriP40CEWNjB8slsp3OTGcGgPD/mTZdE8xnXEAgP7+QQzDoKDAYjklIIZ5VpI60cZVV28fu7/+gVeqnmP5wieTAB23YwArX1hO/Ws17Ny1l1udd6wH7Dfhu8Bi2wAAd+71sfvYOcpKitA1jalTHqOzqweAGeVePt61l47bNown9I9pWORPprrv+ei+50PXNc6cv8iIPzYlXx755lGHAimUJHaZeGSFwxH+vNExka4puYhocYA5Y+sK8gxerywHp4YyNNA1lFMDZ+r4UAqenjMr1UmBDEaQIxFkIIz0R3CMhHG3DUAgnAlgyIAG6jqIqgw4p8bzLy23dMI7u9La0cOHgSwABaJHIjhuOcJkyS2OaGjFrYT7hxi7GwYjaMduQDDzRAzNcBOa6SZUWsBgTz+uwQiFD4IU3s9660KOZPFeEwpX4Wex03DzV1+geDujUXcUTgcgOrq48/B6hlbGrg1tV28CUPGbj+qPrthwO65ZjnY63loUW1FRczvgz2g0wwHr8iB+lEdXlhP8qRbPkmJmmmEeJ8LiMi+Ly7x4187j5slahqvKrY1rQJHYAOlXsncO7QCxNWuHeCSUJx/zmZJksdIEgYejpyivvQ/tfqYvozRbu8CtjSsSLDEFwzvI01dnvQnHIyFO+3GcHT243YdCUiVyGC/rEr+ppN7fEEQ4a4GerB3HTMeE5BImFc4qft44lAkAsKeuF1OtnxSIAhFlnnyVK29cTi+e2MMkR3bkVJHw84S+gssNGWkis7VnT10vgfCLoHZiIztySgPm6q0scJRmMw7/9XGaKxKGUJQ52il0NHL1zd/HG94aIKFcz/M7UQc/BnUK5TCFohunOIFHfZK+0MbTvx9ltLez/h/sAAAAAElFTkSuQmCC) ☑️ **TODO: put the correct shape for the GRU layer**"
   ]
  },
  {
   "cell_type": "markdown",
   "metadata": {
    "id": "lnPr3geqUUk8"
   },
   "source": [
    "Complete the following code (for both encoder and decoder) with the correct shape.\n",
    "\n",
    "We pass an element at a time, but the GRU requires 3 dimensions. \n",
    "Change the dimension of the embedded tensor using the `.view()` method.\n",
    "\n",
    "Tips:\n",
    "- https://pytorch.org/docs/stable/generated/torch.Tensor.view.html"
   ]
  },
  {
   "cell_type": "code",
   "execution_count": null,
   "metadata": {
    "id": "bEwXvfll5aHc"
   },
   "outputs": [],
   "source": [
    "class EncoderRNN(nn.Module):\n",
    "    def __init__(self, input_size, hidden_size):\n",
    "        super(EncoderRNN, self).__init__()\n",
    "        # configurable hidden size\n",
    "        self.hidden_size = hidden_size\n",
    "\n",
    "        # we use an embedding layer\n",
    "        self.embedding = nn.Embedding(input_size, hidden_size)\n",
    "        # we define a GRU layer (Gated Recurrent Unit), a simpler version of recurrent layer and way simple than LSTM\n",
    "        self.gru = nn.GRU(hidden_size, hidden_size)\n",
    "\n",
    "    def forward(self, input, hidden):\n",
    "      # move the input to the dedicated device (CPU or GPU)\n",
    "      input = input.to(device)\n",
    "      # apply the embedding layer\n",
    "      embedded = self.embedding(input)\n",
    "      \n",
    "      \n",
    "      # modify the output shape in order for it to work with a GRU (we use batches of one element)\n",
    "      ############## CODE ME ###############\n",
    "      output = # CODE ME, output should be of size (1, 1, hidden_size)\n",
    "\n",
    "\n",
    "      # apply the GRU layer\n",
    "      output, hidden = self.gru(output, hidden)\n",
    "      # return both the output, and the hidden vector\n",
    "      return output, hidden\n",
    "\n",
    "    def initHidden(self):\n",
    "        \"\"\" \n",
    "        method used to customize the hidden vector initialization.\n",
    "        here the vector is initialized as 0 with the correct shape and created directly on the correct device\n",
    "        \"\"\"\n",
    "        return torch.zeros(1, 1, self.hidden_size, device=device)"
   ]
  },
  {
   "cell_type": "markdown",
   "metadata": {
    "id": "gH0_bvPyfPKD"
   },
   "source": [
    "## <font color=\"chillipepper\">Define the Decoder</font>"
   ]
  },
  {
   "cell_type": "code",
   "execution_count": null,
   "metadata": {
    "id": "4VlSIlQg5eEB"
   },
   "outputs": [],
   "source": [
    "class DecoderRNN(nn.Module):\n",
    "    def __init__(self, hidden_size, output_size):\n",
    "        super(DecoderRNN, self).__init__()\n",
    "        # configurable hidden size\n",
    "        self.hidden_size = hidden_size\n",
    "\n",
    "        # we use an embedding layer\n",
    "        self.embedding = nn.Embedding(output_size, hidden_size)\n",
    "        # we define a GRU layer (Gated Recurrent Unit), a simpler version of recurrent layer and way simple than LSTM\n",
    "        self.gru = nn.GRU(hidden_size, hidden_size)\n",
    "        self.out = nn.Linear(hidden_size, output_size)\n",
    "        self.softmax = nn.LogSoftmax(dim=1)\n",
    "\n",
    "    def forward(self, input, hidden):\n",
    "      # move the input to the dedicated device (CPU or GPU)\n",
    "        input = input.to(device)\n",
    "\n",
    "\n",
    "        # apply the embedding layer and modify the output shape in order for it to work with a GRU (we use batches of one element)\n",
    "        output = self.embedding(input)\n",
    "        \n",
    "        ################ CODE ME !! ####################\n",
    "        output = # CODE ME !\n",
    "        \n",
    "        \n",
    "        # apply a ReLU non linearization layer\n",
    "        output = F.relu(output)\n",
    "        # apply the GRU layer\n",
    "        output, hidden = self.gru(output, hidden)\n",
    "        # apply a softmax to get probabilities, on the first element of the output vector (batch is equal to one)\n",
    "        output = self.softmax(self.out(output[0]))\n",
    "        # return both the output probabilities and the hidden vector\n",
    "        return output, hidden\n",
    "\n",
    "    def initHidden(self):\n",
    "        \"\"\" \n",
    "        method used to customize the hidden vector initialization.\n",
    "        here the vector is initialized as 0 with the correct shape and created directly on the correct device\n",
    "        \"\"\"\n",
    "        return torch.zeros(1, 1, self.hidden_size, device=device)"
   ]
  },
  {
   "cell_type": "markdown",
   "metadata": {
    "id": "itWbAbHofWGn"
   },
   "source": [
    "## <font color=\"chillipepper\">Encoder-Decoder in the Training Loop</font>"
   ]
  },
  {
   "cell_type": "code",
   "execution_count": null,
   "metadata": {
    "id": "Q5fKCQF26CkY"
   },
   "outputs": [],
   "source": [
    "import random \n",
    "teacher_forcing_ratio = 0.5\n",
    "\n",
    "\n",
    "def train(input_tensor, target_tensor, encoder, decoder, encoder_optimizer, decoder_optimizer, criterion, max_length=maxlen):\n",
    "    # put both encoder and decoder into trainning mode\n",
    "    encoder.train()\n",
    "    decoder.train()\n",
    "\n",
    "    # use our custom initialization of hidden vector\n",
    "    encoder_hidden = encoder.initHidden()\n",
    "\n",
    "    # remove the gradient to prevent gradient accumulation\n",
    "    encoder_optimizer.zero_grad()\n",
    "    decoder_optimizer.zero_grad()\n",
    "\n",
    "    # adapt the tensor sizes\n",
    "    input_tensor = input_tensor.view(input_tensor.size(1), input_tensor.size(0)) #input_tensor.view(1,1,-1)\n",
    "    target_tensor = target_tensor.view(target_tensor.size(1), target_tensor.size(0)) #target_tensor.view(1,1,-1)\n",
    "\n",
    "    # keep the lengths in memory\n",
    "    input_length = input_tensor.size(0)\n",
    "    target_length = target_tensor.size(0)\n",
    "\n",
    "    # prepare an empty output with the correct size and the correct device\n",
    "    encoder_outputs = torch.zeros(max_length, encoder.hidden_size, device=device)\n",
    "\n",
    "    # init the loss to 0\n",
    "    loss = 0\n",
    "\n",
    "    # pass each token of the input_tensor to the encoder, then populate the output\n",
    "    for ei in range(input_length):\n",
    "      if ei >= maxlen: break\n",
    "      encoder_output, encoder_hidden = encoder(input_tensor[ei], encoder_hidden)\n",
    "      encoder_outputs[ei] = encoder_output[0, 0]\n",
    "\n",
    "    # now we consider the decoder input, which starts only with the SOS token\n",
    "    decoder_input = torch.tensor([[SOS_IDX]], device=device)\n",
    "\n",
    "    # share the hidden vector from encoder to the decoder\n",
    "    decoder_hidden = encoder_hidden\n",
    "\n",
    "    # add a condition to teacher forcing\n",
    "    use_teacher_forcing = True if random.random() < teacher_forcing_ratio else False\n",
    "\n",
    "    if use_teacher_forcing:\n",
    "        # Teacher forcing: Feed the target as the next input\n",
    "        for di in range(target_length):\n",
    "            decoder_output, decoder_hidden = decoder(\n",
    "                decoder_input, decoder_hidden)\n",
    "            # apply the NLL loss\n",
    "            loss += criterion(decoder_output.to(device), target_tensor[di].to(device))\n",
    "            decoder_input = target_tensor[di]  # Teacher forcing\n",
    "\n",
    "    else:\n",
    "      # Without teacher forcing: use its own predictions as the next input\n",
    "      for di in range(target_length):\n",
    "          decoder_output, decoder_hidden = decoder(\n",
    "              decoder_input, decoder_hidden)\n",
    "          topv, topi = decoder_output.topk(1)\n",
    "          decoder_input = topi.squeeze().detach()  # detach from history as input\n",
    "          # compute the loss\n",
    "          loss += criterion(decoder_output, target_tensor[di].to(device))\n",
    "          # stop the iteration if the EOS token is predicted\n",
    "          if decoder_input.item() == EOS_IDX:\n",
    "              break\n",
    "    \n",
    "    # do the back propagation\n",
    "    loss.backward()\n",
    "\n",
    "    # notify each optimizers\n",
    "    encoder_optimizer.step()\n",
    "    decoder_optimizer.step()\n",
    "\n",
    "    # return the average loss\n",
    "    return loss.item() / target_length"
   ]
  },
  {
   "cell_type": "code",
   "execution_count": null,
   "metadata": {
    "id": "ty7kdtSp4ZX0"
   },
   "outputs": [],
   "source": [
    "def sentence2tensor(entry, lang):\n",
    "  \"\"\"\n",
    "  Function to transform an entry sentence into its corresponding indices as a tensor. \n",
    "  Needs to indicate the language to select the correct part of the vocabulary \n",
    "  \"\"\"\n",
    "  indices = [SOS_IDX] + [ VOC[lang]['stoi'][t] if t in VOC[lang]['stoi'] else 0 for t in tok.tokenize(entry.lower().strip()) ] + [EOS_IDX]\n",
    "  print(indices)\n",
    "  return torch.tensor(indices)\n",
    "\n",
    "def evaluate(encoder, decoder, sentence, input_lang, target_lang, max_length=maxlen, input_tensor=None, target_tensor=None, criterion=None):\n",
    "    \"\"\"\n",
    "    function to evaluate a translation of one sentence\n",
    "    \"\"\"\n",
    "    # we evaluate, so we don't need gradients -> torch.no_grad()\n",
    "    with torch.no_grad():\n",
    "        \n",
    "        if target_tensor is None: target_length = 0\n",
    "        else: target_length = target_tensor.size(0)\n",
    "\n",
    "        encoder_hidden = encoder.initHidden()\n",
    "        \n",
    "        # this condition adapts the function to either use a sentence as input, or a tensor\n",
    "        if input_tensor is None:\n",
    "          input_tensor = sentence2tensor(sentence, input_lang)\n",
    "          # adapts the decoding length, useful for validation or test\n",
    "          decoding_length = max_length\n",
    "        else:\n",
    "          decoding_length = target_length\n",
    "        \n",
    "        input_length = input_tensor.size(0)\n",
    "\n",
    "        encoder_outputs = torch.zeros(max_length, encoder.hidden_size, device=device)\n",
    "\n",
    "        # iterate through the input length \n",
    "        for ei in range(input_length):\n",
    "            if ei >= maxlen: break\n",
    "            encoder_output, encoder_hidden = encoder(input_tensor[ei], encoder_hidden)\n",
    "            encoder_outputs[ei] += encoder_output[0, 0]\n",
    "\n",
    "        decoder_input = torch.tensor([[SOS_IDX]], device=device)  # SOS\n",
    "\n",
    "        decoder_hidden = encoder_hidden\n",
    "\n",
    "        decoded_words = []\n",
    "        \n",
    "        # init the loss (the loss is important is the cirterion is given - i.e. validation phase)\n",
    "        loss = 0\n",
    "\n",
    "        # iterate through decoding values, feeding the output for the next token until the condition or maximum lenght is reached\n",
    "        for di in range(decoding_length):\n",
    "            decoder_output, decoder_hidden = decoder(decoder_input, decoder_hidden)\n",
    "            topv, topi = decoder_output.data.topk(1)\n",
    "            if topi.item() == EOS_IDX:\n",
    "                decoded_words.append('<EOS>')\n",
    "                break\n",
    "            else:\n",
    "                decoded_words.append(VOC[target_lang]['itos'][topi.item()])\n",
    "\n",
    "            decoder_input = topi.squeeze().detach()\n",
    "\n",
    "            if target_tensor != None and criterion is not None:\n",
    "              loss += criterion(decoder_output.to(device), target_tensor[di].unsqueeze(0).to(device))\n",
    "              if decoder_input.item() == EOS_IDX:\n",
    "                break\n",
    "\n",
    "        return decoded_words, loss"
   ]
  },
  {
   "cell_type": "code",
   "execution_count": null,
   "metadata": {
    "id": "1SNlOR1O4gHN"
   },
   "outputs": [],
   "source": [
    "def inference(target, loader, encoder, decoder, criterion, langorder, limit=0):\n",
    "  \"\"\"\n",
    "  fucntion to apply the inference logic over multiple translation and return a score\n",
    "  used for validation\n",
    "  \"\"\"\n",
    "  encoder.eval()\n",
    "  decoder.eval()\n",
    "  loss_it, glue_it = list(), list()\n",
    "  preds, trues = list(), list()\n",
    "\n",
    "  total = loader.__len__()\n",
    "  if limit > 0: total = limit\n",
    "\n",
    "  # iterate through the loader, can be a validation or test loader\n",
    "  for it, batch in tqdm(enumerate(loader), desc=\"%s:\" % (target), total=total):\n",
    "    \n",
    "    if limit > 0 and it >= limit: break\n",
    "\n",
    "    input_tensor = batch[langorder[0]].squeeze()\n",
    "    target_tensor = batch[langorder[1]].squeeze()\n",
    "\n",
    "    input_lang = langorder[0]\n",
    "    target_lang = langorder[1]\n",
    "    # dummy sentence because this function is used for validation, not on-demand test\n",
    "    mock_sentence = \"dummy sentence not used\"\n",
    "\n",
    "    # compute entry and target sentences as \"real text\"\n",
    "    entry = [VOC[input_lang]['itos'][t] for t in input_tensor.tolist()]\n",
    "    entry = ' '.join( [e for e in entry if e not in ['<pad>', '<sos>', '<eos>', '<EOS>']] )\n",
    "    true =  [VOC[target_lang]['itos'][t] for t in target_tensor.tolist()]\n",
    "    true = ' '.join( [r for r in true if r not in ['<pad>', '<sos>', '<eos>', '<EOS>']] )\n",
    "    trues.append([true])\n",
    "\n",
    "    pred, loss = evaluate(encoder, decoder, mock_sentence, input_lang, target_lang, input_tensor=input_tensor, target_tensor=target_tensor, criterion=criterion)\n",
    "    pred = ' '.join( [ h for h in pred if h not in ['<pad>', '<sos>', '<eos>', '<EOS>'] ] )\n",
    "    preds.append(pred)\n",
    "    if criterion is not None: \n",
    "      try:\n",
    "        loss_it.append(loss.item())\n",
    "      except: pass\n",
    "    else: loss_it.append(loss)\n",
    "\n",
    "  bleu = BLEU()\n",
    "  bleu_score = bleu.corpus_score(preds, trues)\n",
    "\n",
    "  loss_it_avg = sum(loss_it)/len(loss_it)\n",
    "\n",
    "  print(\"%s : (%s %s) (%s %s)\" % ( colored(target, 'blue'), colored('loss', 'cyan'), loss_it_avg, colored('blue', 'cyan'), bleu_score ))\n",
    "\n",
    "  return trues, preds, loss_it_avg, loss_it, bleu_score "
   ]
  },
  {
   "cell_type": "markdown",
   "metadata": {
    "id": "ZtS91vBws9dT"
   },
   "source": [
    "# <font color=\"chillipepper\">**Start Training 📉**</font>"
   ]
  },
  {
   "cell_type": "code",
   "execution_count": null,
   "metadata": {
    "id": "Y7pD8Xhh6aM9"
   },
   "outputs": [],
   "source": [
    "import torch.optim as optim\n",
    "\n",
    "def run_epochs(encoder, decoder, max_epochs, learning_rate=0.01, langorder=['en','fr'], limit=0):    \n",
    "    \n",
    "    # define the optimizer for both encoder and decoder separately.\n",
    "    # You can change it later on\n",
    "    encoder_optimizer = optim.SGD(encoder.parameters(), lr=learning_rate)\n",
    "    decoder_optimizer = optim.SGD(decoder.parameters(), lr=learning_rate)\n",
    "    criterion = nn.NLLLoss()\n",
    "\n",
    "    epoch_losses = []\n",
    "    val_epoch_losses = []\n",
    "\n",
    "    for ep in range(max_epochs):\n",
    "      \n",
    "      # TRAINING\n",
    "      it_losses = []\n",
    "\n",
    "      total = train_loader.__len__()\n",
    "      # allow to limit the number of random samples per epoch\n",
    "      if limit > 0: total = limit\n",
    "\n",
    "      for iter, batch in tqdm(enumerate(train_loader), desc=\"Epoch %s:\" % (ep), total=total):\n",
    "          # trigger the limit if it is set\n",
    "          if limit > 0 and iter >= limit: break\n",
    "\n",
    "          input_tensor = batch[langorder[0]]\n",
    "          target_tensor = batch[langorder[1]]\n",
    "\n",
    "          loss = train(input_tensor, target_tensor, encoder, decoder, encoder_optimizer, decoder_optimizer, criterion)\n",
    "          it_losses.append(loss)\n",
    "\n",
    "      epoch_loss = sum(it_losses)/len(it_losses)\n",
    "      epoch_losses.append(epoch_loss)\n",
    "      print(\"Epoch %s : %s : (%s %s) \" % (colored(str(ep), 'blue'), colored('Training', 'blue'), colored('loss', 'cyan'), epoch_loss  ))\n",
    "\n",
    "      \n",
    "      # VALIDATION\n",
    "      trues, preds, val_loss_it_avg, val_loss_it, bleu_score = inference(\"validation\", val_loader, encoder, decoder, criterion, langorder, limit=limit)\n",
    "      val_epoch_losses.append(val_loss_it_avg)\n",
    "\n",
    "      \n",
    "    return epoch_losses, val_epoch_losses"
   ]
  },
  {
   "cell_type": "code",
   "execution_count": null,
   "metadata": {
    "id": "LZZbJElZ7cQJ"
   },
   "outputs": [],
   "source": [
    "# the hidden size is up to you, higher value yields longer training time\n",
    "hidden_size = 256\n",
    "langorder = ['fr', 'en']\n",
    "epochs = 3\n",
    "\n",
    "# instanciate the encoder\n",
    "encoder1 = EncoderRNN(VOC[langorder[0]]['nbwords'], hidden_size).to(device)\n",
    "# instanciate the decoder\n",
    "decoder1 = DecoderRNN(hidden_size, VOC[langorder[1]]['nbwords']).to(device)\n",
    "\n",
    "# run the epochs\n",
    "loss_list, val_loss_list = run_epochs(encoder1, decoder1, epochs, learning_rate=0.01, limit=200, langorder=langorder)"
   ]
  },
  {
   "cell_type": "code",
   "execution_count": null,
   "metadata": {
    "id": "rvangQK2Svea"
   },
   "outputs": [],
   "source": [
    "%matplotlib inline\n",
    "import matplotlib.pyplot as plt\n",
    "\n",
    "def plot_loss(loss_list):\n",
    "  '''\n",
    "  this function creates a plot. a simple curve showing the different values at each steps.\n",
    "  Here we use it to plot the loss so we named it plot_loss, but the same function with different titles could be used to plot accuracies\n",
    "  or other metrics for instance.\n",
    "  \n",
    "  Args:\n",
    "    loss_list (list of floats): list of numerical values\n",
    "  '''\n",
    "  plt.plot(range(len(loss_list)), loss_list)\n",
    "  plt.xlabel('epochs')\n",
    "  plt.ylabel('NLL')\n",
    "  plt.title('lr: {}, optim_alg:{}'.format(0.01, 'SGD'))\n",
    "  plt.show()"
   ]
  },
  {
   "cell_type": "code",
   "execution_count": null,
   "metadata": {
    "id": "uP3zrGacSyHO"
   },
   "outputs": [],
   "source": [
    "# train loss\n",
    "plot_loss(loss_list)"
   ]
  },
  {
   "cell_type": "code",
   "execution_count": null,
   "metadata": {
    "id": "aQDCwLgSGbz2"
   },
   "outputs": [],
   "source": [
    "# val loss\n",
    "plot_loss(val_loss_list)"
   ]
  },
  {
   "cell_type": "markdown",
   "metadata": {
    "id": "d4zgiec-Vhse"
   },
   "source": [
    "What would be the pros and cons of using batches?\n",
    "- padding would break the performances\n",
    "- left or right padding and trim would generate noisy data (missing data) in the temporal representation"
   ]
  },
  {
   "cell_type": "markdown",
   "metadata": {
    "id": "nPnNboShg0xm"
   },
   "source": [
    "# <font color=\"chillipepper\">**Evaluations 📊**</font>"
   ]
  },
  {
   "cell_type": "markdown",
   "metadata": {
    "id": "M1J6-3hxG6NB"
   },
   "source": [
    "## <font color=\"chillipepper\">Evaluate on Test 📊</font>"
   ]
  },
  {
   "cell_type": "markdown",
   "metadata": {
    "id": "lczBL9o4a1ks"
   },
   "source": [
    "We use the BLEU score to evaluate our translation.\n",
    "\n",
    "Here is the original paper: https://aclanthology.org/P02-1040.pdf"
   ]
  },
  {
   "cell_type": "code",
   "execution_count": null,
   "metadata": {
    "id": "dquR_TlNHFNn"
   },
   "outputs": [],
   "source": [
    "trues, preds, test_loss_it_avg, test_loss_it, bleu_score = inference(\"test\", test_loader, encoder1, decoder1, None, langorder, limit=1000)\n",
    "print(bleu_score)"
   ]
  },
  {
   "cell_type": "markdown",
   "metadata": {
    "id": "DFSJS-2Zgnic"
   },
   "source": [
    "## <font color=\"chillipepper\">On-demand Subjective Evaluation 💻⌨️</font>"
   ]
  },
  {
   "cell_type": "markdown",
   "metadata": {
    "id": "1YJHxxwgb8c_"
   },
   "source": [
    "Let's try an arbitrary sentence"
   ]
  },
  {
   "cell_type": "code",
   "execution_count": null,
   "metadata": {
    "id": "vT6BmYcgZsVl"
   },
   "outputs": [],
   "source": [
    "evaluate(encoder1, decoder1, \"Fumer te fera beaucoup de mal.\", \"fr\", \"en\")"
   ]
  },
  {
   "cell_type": "markdown",
   "metadata": {
    "id": "wISsovYzcAhO"
   },
   "source": [
    "Let's create a random evaluation function"
   ]
  },
  {
   "cell_type": "code",
   "execution_count": null,
   "metadata": {
    "id": "Al-Xrs2OhGJM"
   },
   "outputs": [],
   "source": [
    "def evaluateRandomly(encoder, decoder, input_lang, target_lang, n=10):\n",
    "    refs, hyps = [], []\n",
    "    criterion = nn.NLLLoss()\n",
    "    \n",
    "    for i in range(n):\n",
    "        batch = next(iter(train_loader))\n",
    "\n",
    "        input_tensor = batch['en'].squeeze()\n",
    "        target_tensor = batch['fr'].squeeze()\n",
    "\n",
    "        entry = [VOC[input_lang]['itos'][t] for t in input_tensor.tolist()]\n",
    "        entry = ' '.join( [e for e in entry if e not in ['<pad>', '<sos>', '<eos>', '<EOS>']] )\n",
    "        ref =  [VOC[target_lang]['itos'][t] for t in target_tensor.tolist()]\n",
    "        ref = ' '.join( [r for r in ref if r not in ['<pad>', '<sos>', '<eos>', '<EOS>']] )\n",
    "        refs.append([ref])\n",
    "\n",
    "        print('>', entry )\n",
    "        print('=', ref )\n",
    "\n",
    "        hyp, _ = evaluate(encoder1, decoder1, \"dummy\", \"en\", \"fr\", input_tensor=input_tensor, target_tensor=target_tensor, criterion=criterion)\n",
    "        print('<', ' '.join(hyp), '\\n')\n",
    "        hyp = ' '.join( [ h for h in hyp if h not in ['<pad>', '<sos>', '<eos>', '<EOS>'] ] )\n",
    "        hyps.append(hyp)\n",
    "\n",
    "    return refs, hyps"
   ]
  },
  {
   "cell_type": "code",
   "execution_count": null,
   "metadata": {
    "id": "kzVsRuq2jQI_"
   },
   "outputs": [],
   "source": [
    "refs, hyps = evaluateRandomly(encoder1, decoder1, \"fr\", \"en\")"
   ]
  },
  {
   "cell_type": "markdown",
   "metadata": {
    "id": "mpEARhGncGeV"
   },
   "source": [
    "Compute the BLEU score"
   ]
  },
  {
   "cell_type": "code",
   "execution_count": null,
   "metadata": {
    "id": "JOKmXiLPnicA"
   },
   "outputs": [],
   "source": [
    "bleu = BLEU()\n",
    "print(hyps)\n",
    "result = bleu.corpus_score(hyps, refs)\n",
    "print(result)"
   ]
  },
  {
   "cell_type": "markdown",
   "metadata": {
    "id": "wKb820bsdAyX"
   },
   "source": [
    "#### ![programming(3).png](data:image/png;base64,iVBORw0KGgoAAAANSUhEUgAAACAAAAAgCAYAAABzenr0AAAABHNCSVQICAgIfAhkiAAAAAlwSFlzAAAA3QAAAN0BcFOiBwAAABl0RVh0U29mdHdhcmUAd3d3Lmlua3NjYXBlLm9yZ5vuPBoAAAR7SURBVFiFtZdvaFVlHMc/z3PPuefuz825XWV3m5mWU1MLSVEyRoqKk2iLWBCT2uyFpTSIoCCHL0SDXkgUavhKCU3EpGmlorYSShtWig6M1M25gVPb3da2e6/3z3l6cf9u996d42pfOC/O8+/3+f2e5/f8EUopbKnplEHEtwpFDYj5gDf+AdyNfeo6guNoxa18Xv3QzrDCEmDTQS8OuQ1FPeC2R8sQgkNEze3s23B3YgCNB1y49GYQ7wH5Ng2PlR/UpwTDO9jfELQPsOVoKSrUghLLJmh4rJU2hLOWPXW91gCbDi1CipNAxf9iPKUeTLWeffXXcgNsOVqKGb40CcZTEFJfmh4JmaxqPOBChVom0ThABSrUQuMBV6JAS1a59Ob0OQ8J+MsYP0MUMDgwOL5JE5ZINy6XI95JLIstbpohMQWbDnqR8iZpq/1vB3xYalq6dPHXS5Ztzv4xl/K1UyBPJIr8mOZT7NtwNzYFDrmNCabawvmV6Jo2fqMBBd8GIJCMaH7cJpKmU0Z8k7GlaUVu1ixdAIBT19n6/mZ0Xefl6tWUTvfk7ugzR0Mo6mk6ZUgivlXY3OGmFblpqluDkLFQTvNM5f6DPvyBAFIKtn3wrjXEiSSEm4hvlYzt7faN/3LtBmfa2gGY7imho6sbgJbvz3Lu/AVriP40CEWNjB8slsp3OTGcGgPD/mTZdE8xnXEAgP7+QQzDoKDAYjklIIZ5VpI60cZVV28fu7/+gVeqnmP5wieTAB23YwArX1hO/Ws17Ny1l1udd6wH7Dfhu8Bi2wAAd+71sfvYOcpKitA1jalTHqOzqweAGeVePt61l47bNown9I9pWORPprrv+ei+50PXNc6cv8iIPzYlXx755lGHAimUJHaZeGSFwxH+vNExka4puYhocYA5Y+sK8gxerywHp4YyNNA1lFMDZ+r4UAqenjMr1UmBDEaQIxFkIIz0R3CMhHG3DUAgnAlgyIAG6jqIqgw4p8bzLy23dMI7u9La0cOHgSwABaJHIjhuOcJkyS2OaGjFrYT7hxi7GwYjaMduQDDzRAzNcBOa6SZUWsBgTz+uwQiFD4IU3s9660KOZPFeEwpX4Wex03DzV1+geDujUXcUTgcgOrq48/B6hlbGrg1tV28CUPGbj+qPrthwO65ZjnY63loUW1FRczvgz2g0wwHr8iB+lEdXlhP8qRbPkmJmmmEeJ8LiMi+Ly7x4187j5slahqvKrY1rQJHYAOlXsncO7QCxNWuHeCSUJx/zmZJksdIEgYejpyivvQ/tfqYvozRbu8CtjSsSLDEFwzvI01dnvQnHIyFO+3GcHT243YdCUiVyGC/rEr+ppN7fEEQ4a4GerB3HTMeE5BImFc4qft44lAkAsKeuF1OtnxSIAhFlnnyVK29cTi+e2MMkR3bkVJHw84S+gssNGWkis7VnT10vgfCLoHZiIztySgPm6q0scJRmMw7/9XGaKxKGUJQ52il0NHL1zd/HG94aIKFcz/M7UQc/BnUK5TCFohunOIFHfZK+0MbTvx9ltLez/h/sAAAAAElFTkSuQmCC) ☑️ **TODO: Create an interative translation**"
   ]
  },
  {
   "cell_type": "markdown",
   "metadata": {
    "id": "LPxUMFr7dIIu"
   },
   "source": [
    "Get the input text from the user, and translate it ot French on-demand.\n",
    "\n",
    "Tips:\n",
    "- use `input()` function from Python\n",
    "- use the `evaluate()` function"
   ]
  },
  {
   "cell_type": "code",
   "execution_count": null,
   "metadata": {
    "id": "ud_cxeGFb6uP"
   },
   "outputs": [],
   "source": [
    "# ####### CODE ME"
   ]
  },
  {
   "cell_type": "markdown",
   "metadata": {
    "id": "u6eo__VVgFQn"
   },
   "source": [
    "# <font color=\"chillipepper\">**Conclusion**</font>\n",
    "\n",
    "In this lab you gained the following:\n",
    "- building your own vocabulary\n",
    "- machine translation differencies in data representation and training loop\n",
    "- encoder-decoder simple models with a bit of teacher forcing\n",
    "- machine translation evaluation with BLUE\n",
    "\n",
    "The model's performance is not satisfying if we only consider a small subset. However, training takes a long time. **Try to train it for a longer time and compare the results!**: just adjust the `limit`, `epochs` and `maxlen` variables."
   ]
  }
 ],
 "metadata": {
  "accelerator": "GPU",
  "colab": {
   "collapsed_sections": [],
   "name": "ENSAE_ML4NLP2022_lab5_studentversion.ipynb",
   "provenance": []
  },
  "kernelspec": {
   "display_name": "Python 3 (ipykernel)",
   "language": "python",
   "name": "python3"
  },
  "language_info": {
   "codemirror_mode": {
    "name": "ipython",
    "version": 3
   },
   "file_extension": ".py",
   "mimetype": "text/x-python",
   "name": "python",
   "nbconvert_exporter": "python",
   "pygments_lexer": "ipython3",
   "version": "3.9.12"
  },
  "widgets": {
   "application/vnd.jupyter.widget-state+json": {
    "126db9b1475c43a893d34c219368c5ed": {
     "model_module": "@jupyter-widgets/controls",
     "model_module_version": "1.5.0",
     "model_name": "HTMLModel",
     "state": {
      "_dom_classes": [],
      "_model_module": "@jupyter-widgets/controls",
      "_model_module_version": "1.5.0",
      "_model_name": "HTMLModel",
      "_view_count": null,
      "_view_module": "@jupyter-widgets/controls",
      "_view_module_version": "1.5.0",
      "_view_name": "HTMLView",
      "description": "",
      "description_tooltip": null,
      "layout": "IPY_MODEL_222e6db2fda549ffa61d6bef839f9480",
      "placeholder": "​",
      "style": "IPY_MODEL_23f8f1dc71174bfda448ea81cd542528",
      "value": "100%"
     }
    },
    "1d8fa8aaac4140eeb2ac946a4e944748": {
     "model_module": "@jupyter-widgets/controls",
     "model_module_version": "1.5.0",
     "model_name": "HTMLModel",
     "state": {
      "_dom_classes": [],
      "_model_module": "@jupyter-widgets/controls",
      "_model_module_version": "1.5.0",
      "_model_name": "HTMLModel",
      "_view_count": null,
      "_view_module": "@jupyter-widgets/controls",
      "_view_module_version": "1.5.0",
      "_view_name": "HTMLView",
      "description": "",
      "description_tooltip": null,
      "layout": "IPY_MODEL_262d91d95c2c4bf8b45ced27b7ed63ab",
      "placeholder": "​",
      "style": "IPY_MODEL_debb984662c74ce5bfa1564f4386caaf",
      "value": " 1/1 [00:00&lt;00:00,  5.83it/s]"
     }
    },
    "222e6db2fda549ffa61d6bef839f9480": {
     "model_module": "@jupyter-widgets/base",
     "model_module_version": "1.2.0",
     "model_name": "LayoutModel",
     "state": {
      "_model_module": "@jupyter-widgets/base",
      "_model_module_version": "1.2.0",
      "_model_name": "LayoutModel",
      "_view_count": null,
      "_view_module": "@jupyter-widgets/base",
      "_view_module_version": "1.2.0",
      "_view_name": "LayoutView",
      "align_content": null,
      "align_items": null,
      "align_self": null,
      "border": null,
      "bottom": null,
      "display": null,
      "flex": null,
      "flex_flow": null,
      "grid_area": null,
      "grid_auto_columns": null,
      "grid_auto_flow": null,
      "grid_auto_rows": null,
      "grid_column": null,
      "grid_gap": null,
      "grid_row": null,
      "grid_template_areas": null,
      "grid_template_columns": null,
      "grid_template_rows": null,
      "height": null,
      "justify_content": null,
      "justify_items": null,
      "left": null,
      "margin": null,
      "max_height": null,
      "max_width": null,
      "min_height": null,
      "min_width": null,
      "object_fit": null,
      "object_position": null,
      "order": null,
      "overflow": null,
      "overflow_x": null,
      "overflow_y": null,
      "padding": null,
      "right": null,
      "top": null,
      "visibility": null,
      "width": null
     }
    },
    "23f8f1dc71174bfda448ea81cd542528": {
     "model_module": "@jupyter-widgets/controls",
     "model_module_version": "1.5.0",
     "model_name": "DescriptionStyleModel",
     "state": {
      "_model_module": "@jupyter-widgets/controls",
      "_model_module_version": "1.5.0",
      "_model_name": "DescriptionStyleModel",
      "_view_count": null,
      "_view_module": "@jupyter-widgets/base",
      "_view_module_version": "1.2.0",
      "_view_name": "StyleView",
      "description_width": ""
     }
    },
    "262d91d95c2c4bf8b45ced27b7ed63ab": {
     "model_module": "@jupyter-widgets/base",
     "model_module_version": "1.2.0",
     "model_name": "LayoutModel",
     "state": {
      "_model_module": "@jupyter-widgets/base",
      "_model_module_version": "1.2.0",
      "_model_name": "LayoutModel",
      "_view_count": null,
      "_view_module": "@jupyter-widgets/base",
      "_view_module_version": "1.2.0",
      "_view_name": "LayoutView",
      "align_content": null,
      "align_items": null,
      "align_self": null,
      "border": null,
      "bottom": null,
      "display": null,
      "flex": null,
      "flex_flow": null,
      "grid_area": null,
      "grid_auto_columns": null,
      "grid_auto_flow": null,
      "grid_auto_rows": null,
      "grid_column": null,
      "grid_gap": null,
      "grid_row": null,
      "grid_template_areas": null,
      "grid_template_columns": null,
      "grid_template_rows": null,
      "height": null,
      "justify_content": null,
      "justify_items": null,
      "left": null,
      "margin": null,
      "max_height": null,
      "max_width": null,
      "min_height": null,
      "min_width": null,
      "object_fit": null,
      "object_position": null,
      "order": null,
      "overflow": null,
      "overflow_x": null,
      "overflow_y": null,
      "padding": null,
      "right": null,
      "top": null,
      "visibility": null,
      "width": null
     }
    },
    "4a291bb20a6c4b299110881d5fdbc17f": {
     "model_module": "@jupyter-widgets/base",
     "model_module_version": "1.2.0",
     "model_name": "LayoutModel",
     "state": {
      "_model_module": "@jupyter-widgets/base",
      "_model_module_version": "1.2.0",
      "_model_name": "LayoutModel",
      "_view_count": null,
      "_view_module": "@jupyter-widgets/base",
      "_view_module_version": "1.2.0",
      "_view_name": "LayoutView",
      "align_content": null,
      "align_items": null,
      "align_self": null,
      "border": null,
      "bottom": null,
      "display": null,
      "flex": null,
      "flex_flow": null,
      "grid_area": null,
      "grid_auto_columns": null,
      "grid_auto_flow": null,
      "grid_auto_rows": null,
      "grid_column": null,
      "grid_gap": null,
      "grid_row": null,
      "grid_template_areas": null,
      "grid_template_columns": null,
      "grid_template_rows": null,
      "height": null,
      "justify_content": null,
      "justify_items": null,
      "left": null,
      "margin": null,
      "max_height": null,
      "max_width": null,
      "min_height": null,
      "min_width": null,
      "object_fit": null,
      "object_position": null,
      "order": null,
      "overflow": null,
      "overflow_x": null,
      "overflow_y": null,
      "padding": null,
      "right": null,
      "top": null,
      "visibility": null,
      "width": null
     }
    },
    "766ff68b1f6c4d5fba61afb160e67c08": {
     "model_module": "@jupyter-widgets/controls",
     "model_module_version": "1.5.0",
     "model_name": "ProgressStyleModel",
     "state": {
      "_model_module": "@jupyter-widgets/controls",
      "_model_module_version": "1.5.0",
      "_model_name": "ProgressStyleModel",
      "_view_count": null,
      "_view_module": "@jupyter-widgets/base",
      "_view_module_version": "1.2.0",
      "_view_name": "StyleView",
      "bar_color": null,
      "description_width": ""
     }
    },
    "be608794a13d483dae0296846003b23c": {
     "model_module": "@jupyter-widgets/controls",
     "model_module_version": "1.5.0",
     "model_name": "FloatProgressModel",
     "state": {
      "_dom_classes": [],
      "_model_module": "@jupyter-widgets/controls",
      "_model_module_version": "1.5.0",
      "_model_name": "FloatProgressModel",
      "_view_count": null,
      "_view_module": "@jupyter-widgets/controls",
      "_view_module_version": "1.5.0",
      "_view_name": "ProgressView",
      "bar_style": "success",
      "description": "",
      "description_tooltip": null,
      "layout": "IPY_MODEL_d201e9b398c64c8abb6f669fadc90264",
      "max": 1,
      "min": 0,
      "orientation": "horizontal",
      "style": "IPY_MODEL_766ff68b1f6c4d5fba61afb160e67c08",
      "value": 1
     }
    },
    "c28bc14675e44ad8926c6f71dd6e404e": {
     "model_module": "@jupyter-widgets/controls",
     "model_module_version": "1.5.0",
     "model_name": "HBoxModel",
     "state": {
      "_dom_classes": [],
      "_model_module": "@jupyter-widgets/controls",
      "_model_module_version": "1.5.0",
      "_model_name": "HBoxModel",
      "_view_count": null,
      "_view_module": "@jupyter-widgets/controls",
      "_view_module_version": "1.5.0",
      "_view_name": "HBoxView",
      "box_style": "",
      "children": [
       "IPY_MODEL_126db9b1475c43a893d34c219368c5ed",
       "IPY_MODEL_be608794a13d483dae0296846003b23c",
       "IPY_MODEL_1d8fa8aaac4140eeb2ac946a4e944748"
      ],
      "layout": "IPY_MODEL_4a291bb20a6c4b299110881d5fdbc17f"
     }
    },
    "d201e9b398c64c8abb6f669fadc90264": {
     "model_module": "@jupyter-widgets/base",
     "model_module_version": "1.2.0",
     "model_name": "LayoutModel",
     "state": {
      "_model_module": "@jupyter-widgets/base",
      "_model_module_version": "1.2.0",
      "_model_name": "LayoutModel",
      "_view_count": null,
      "_view_module": "@jupyter-widgets/base",
      "_view_module_version": "1.2.0",
      "_view_name": "LayoutView",
      "align_content": null,
      "align_items": null,
      "align_self": null,
      "border": null,
      "bottom": null,
      "display": null,
      "flex": null,
      "flex_flow": null,
      "grid_area": null,
      "grid_auto_columns": null,
      "grid_auto_flow": null,
      "grid_auto_rows": null,
      "grid_column": null,
      "grid_gap": null,
      "grid_row": null,
      "grid_template_areas": null,
      "grid_template_columns": null,
      "grid_template_rows": null,
      "height": null,
      "justify_content": null,
      "justify_items": null,
      "left": null,
      "margin": null,
      "max_height": null,
      "max_width": null,
      "min_height": null,
      "min_width": null,
      "object_fit": null,
      "object_position": null,
      "order": null,
      "overflow": null,
      "overflow_x": null,
      "overflow_y": null,
      "padding": null,
      "right": null,
      "top": null,
      "visibility": null,
      "width": null
     }
    },
    "debb984662c74ce5bfa1564f4386caaf": {
     "model_module": "@jupyter-widgets/controls",
     "model_module_version": "1.5.0",
     "model_name": "DescriptionStyleModel",
     "state": {
      "_model_module": "@jupyter-widgets/controls",
      "_model_module_version": "1.5.0",
      "_model_name": "DescriptionStyleModel",
      "_view_count": null,
      "_view_module": "@jupyter-widgets/base",
      "_view_module_version": "1.2.0",
      "_view_name": "StyleView",
      "description_width": ""
     }
    }
   }
  }
 },
 "nbformat": 4,
 "nbformat_minor": 4
}
